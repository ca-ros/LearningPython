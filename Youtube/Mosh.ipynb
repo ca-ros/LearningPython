{
 "cells": [
  {
   "cell_type": "code",
   "execution_count": 4,
   "id": "2c37fcc6-b62d-4f93-9529-561ced875178",
   "metadata": {},
   "outputs": [
    {
     "name": "stdout",
     "output_type": "stream",
     "text": [
      "Dog\n",
      "o----\n",
      " ||||\n"
     ]
    }
   ],
   "source": [
    "print('Dog')\n",
    "print('o----')\n",
    "print(' ||||')"
   ]
  },
  {
   "cell_type": "code",
   "execution_count": 5,
   "id": "00e6f549-c58f-4eab-9901-69ad439a92fb",
   "metadata": {},
   "outputs": [
    {
     "name": "stdout",
     "output_type": "stream",
     "text": [
      "**********\n"
     ]
    }
   ],
   "source": [
    "print('*' * 10)"
   ]
  },
  {
   "cell_type": "markdown",
   "id": "20d84a37-3c75-4869-a54b-5c39ac942c0a",
   "metadata": {},
   "source": [
    "## Variables"
   ]
  },
  {
   "cell_type": "code",
   "execution_count": 8,
   "id": "c3a2314b-890b-4973-aa07-64b0789c5195",
   "metadata": {},
   "outputs": [
    {
     "name": "stdout",
     "output_type": "stream",
     "text": [
      "price\n",
      "10\n"
     ]
    }
   ],
   "source": [
    "price = 10\n",
    "print('price')\n",
    "print(price)"
   ]
  },
  {
   "cell_type": "code",
   "execution_count": 9,
   "id": "397c266c-613f-4912-b443-6e4f53f63bbd",
   "metadata": {},
   "outputs": [
    {
     "name": "stdout",
     "output_type": "stream",
     "text": [
      "20\n"
     ]
    }
   ],
   "source": [
    "price = 10\n",
    "price = 20\n",
    "print(price)"
   ]
  },
  {
   "cell_type": "code",
   "execution_count": 10,
   "id": "a135a4b4-8ce2-4e66-92a9-a06160c02f6d",
   "metadata": {},
   "outputs": [],
   "source": [
    "rating = 4.9 #Float\n",
    "is_published = False #Boolean"
   ]
  },
  {
   "cell_type": "markdown",
   "id": "ccb0626d-c5e2-406d-ab8b-7f852c68de85",
   "metadata": {},
   "source": [
    "## Receiving input"
   ]
  },
  {
   "cell_type": "code",
   "execution_count": 18,
   "id": "b1e06b6c-fa08-493a-90b5-bab943d4a3bf",
   "metadata": {},
   "outputs": [
    {
     "name": "stdout",
     "output_type": "stream",
     "text": [
      "What is your name?  Chris\n"
     ]
    },
    {
     "data": {
      "text/plain": [
       "'Chris'"
      ]
     },
     "execution_count": 18,
     "metadata": {},
     "output_type": "execute_result"
    }
   ],
   "source": [
    "input('What is your name? ')"
   ]
  },
  {
   "cell_type": "code",
   "execution_count": 17,
   "id": "58a4c39f-182a-47d2-9480-ad48d8ee81b2",
   "metadata": {},
   "outputs": [
    {
     "name": "stdout",
     "output_type": "stream",
     "text": [
      "What is your name?  Chris\n"
     ]
    },
    {
     "name": "stdout",
     "output_type": "stream",
     "text": [
      "Hi Chris\n"
     ]
    }
   ],
   "source": [
    "name = input('What is your name? ')\n",
    "print('Hi ' + name)"
   ]
  },
  {
   "cell_type": "code",
   "execution_count": 19,
   "id": "dcb0c5c7-ad87-407a-b5eb-e49b90483bc2",
   "metadata": {},
   "outputs": [
    {
     "name": "stdout",
     "output_type": "stream",
     "text": [
      "What is your name?  Chris\n",
      "What is your favourite color?  red\n"
     ]
    },
    {
     "name": "stdout",
     "output_type": "stream",
     "text": [
      "Chris likes red\n"
     ]
    }
   ],
   "source": [
    "name = input('What is your name? ')\n",
    "color = input('What is your favourite color? ')\n",
    "print(name + ' likes ' + color)"
   ]
  },
  {
   "cell_type": "markdown",
   "id": "ae431a12-549d-4cc1-9d63-bd783c36005d",
   "metadata": {},
   "source": [
    "## Conversion"
   ]
  },
  {
   "cell_type": "code",
   "execution_count": 22,
   "id": "966f095d-59c4-4842-8878-ba9ff62011bc",
   "metadata": {},
   "outputs": [
    {
     "name": "stdout",
     "output_type": "stream",
     "text": [
      "Birth year:  1997\n"
     ]
    },
    {
     "name": "stdout",
     "output_type": "stream",
     "text": [
      "<class 'str'>\n",
      "<class 'int'>\n",
      "25\n"
     ]
    }
   ],
   "source": [
    "birth_year = input('Birth year: ')\n",
    "age = 2022 - int(birth_year)\n",
    "print(age)"
   ]
  },
  {
   "cell_type": "code",
   "execution_count": 23,
   "id": "0e79c5a6-ad1b-4e3e-8c9e-62db7c2dfd69",
   "metadata": {},
   "outputs": [
    {
     "name": "stdout",
     "output_type": "stream",
     "text": [
      "Weight (lbs):  140\n"
     ]
    },
    {
     "name": "stdout",
     "output_type": "stream",
     "text": [
      "63.0\n"
     ]
    }
   ],
   "source": [
    "weight_lbs = input('Weight (lbs): ')\n",
    "weight_kg = int(weight_lbs) * 0.45\n",
    "print(weight_kg)"
   ]
  },
  {
   "cell_type": "markdown",
   "id": "78797a1c-60e9-4643-8308-894e4300f5ff",
   "metadata": {},
   "source": [
    "## Strings"
   ]
  },
  {
   "cell_type": "code",
   "execution_count": 24,
   "id": "c5ef0b39-97dc-4208-8099-882b87e11789",
   "metadata": {},
   "outputs": [
    {
     "name": "stdout",
     "output_type": "stream",
     "text": [
      "Python's for Beginners\n",
      "Python for \"Beginners\"\n"
     ]
    }
   ],
   "source": [
    "course = \"Python's for Beginners\"\n",
    "print(course)\n",
    "course_2 = 'Python for \"Beginners\"'\n",
    "print(course_2)"
   ]
  },
  {
   "cell_type": "code",
   "execution_count": 27,
   "id": "1af49149-2a42-4ae8-b4bf-329cff0b59f3",
   "metadata": {},
   "outputs": [
    {
     "name": "stdout",
     "output_type": "stream",
     "text": [
      "\n",
      "Hi John,\n",
      "\n",
      "Here is our first email to you.\n",
      "\n",
      "Thank you,\n",
      "The support team\n",
      "\n"
     ]
    }
   ],
   "source": [
    "course_message = '''\n",
    "Hi John,\n",
    "\n",
    "Here is our first email to you.\n",
    "\n",
    "Thank you,\n",
    "The support team\n",
    "'''\n",
    "\n",
    "print(course_message)"
   ]
  },
  {
   "cell_type": "code",
   "execution_count": 28,
   "id": "6c61c731-c21d-479e-a66d-310717a8bc48",
   "metadata": {},
   "outputs": [
    {
     "name": "stdout",
     "output_type": "stream",
     "text": [
      "P\n"
     ]
    }
   ],
   "source": [
    "course = 'Python for Beginners'\n",
    "print(course[0])"
   ]
  },
  {
   "cell_type": "code",
   "execution_count": 29,
   "id": "cad20774-6dc1-47e0-bc00-1e6f7d8b77ba",
   "metadata": {},
   "outputs": [
    {
     "name": "stdout",
     "output_type": "stream",
     "text": [
      "s\n"
     ]
    }
   ],
   "source": [
    "course = 'Python for Beginners'\n",
    "print(course[-1])"
   ]
  },
  {
   "cell_type": "code",
   "execution_count": 30,
   "id": "d306e4d7-2efe-4c87-92e5-86bcc226602e",
   "metadata": {},
   "outputs": [
    {
     "name": "stdout",
     "output_type": "stream",
     "text": [
      "Pyt\n"
     ]
    }
   ],
   "source": [
    "course = 'Python for Beginners'\n",
    "print(course[0:3])"
   ]
  },
  {
   "cell_type": "code",
   "execution_count": 31,
   "id": "f8445934-4384-41f8-92d7-a6625a8ee28b",
   "metadata": {},
   "outputs": [
    {
     "name": "stdout",
     "output_type": "stream",
     "text": [
      "Python for Beginners\n"
     ]
    }
   ],
   "source": [
    "# Returns all the characters\n",
    "course = 'Python for Beginners'\n",
    "print(course[0:])"
   ]
  },
  {
   "cell_type": "code",
   "execution_count": 33,
   "id": "68af2eab-b1a8-45a6-9e86-1a207ae1dd3e",
   "metadata": {},
   "outputs": [
    {
     "name": "stdout",
     "output_type": "stream",
     "text": [
      "Pytho\n"
     ]
    }
   ],
   "source": [
    "# Assumes the 0 index\n",
    "course = 'Python for Beginners'\n",
    "print(course[:5])"
   ]
  },
  {
   "cell_type": "code",
   "execution_count": 34,
   "id": "283225c5-7200-478c-b8d1-62f523f98850",
   "metadata": {},
   "outputs": [
    {
     "name": "stdout",
     "output_type": "stream",
     "text": [
      "Python for Beginners\n"
     ]
    }
   ],
   "source": [
    "# Returns all the characters\n",
    "course = 'Python for Beginners'\n",
    "print(course[:])"
   ]
  },
  {
   "cell_type": "code",
   "execution_count": 35,
   "id": "ee73617a-0970-4d87-82e1-0d852091e895",
   "metadata": {},
   "outputs": [
    {
     "name": "stdout",
     "output_type": "stream",
     "text": [
      "Python for Beginners\n"
     ]
    }
   ],
   "source": [
    "another = course[:]\n",
    "print(another)"
   ]
  },
  {
   "cell_type": "code",
   "execution_count": 1,
   "id": "355ca267-5c88-409d-83bb-b68fa28d4193",
   "metadata": {},
   "outputs": [
    {
     "name": "stdout",
     "output_type": "stream",
     "text": [
      "ennife\n"
     ]
    }
   ],
   "source": [
    "name = 'Jennifer'\n",
    "print(name[1:-1])"
   ]
  },
  {
   "cell_type": "markdown",
   "id": "40526128-5796-48aa-921e-eadc2ea4613b",
   "metadata": {},
   "source": [
    "## Formatted strings"
   ]
  },
  {
   "cell_type": "code",
   "execution_count": 8,
   "id": "77c00765-297c-4ad8-8152-483a3befa686",
   "metadata": {},
   "outputs": [
    {
     "name": "stdout",
     "output_type": "stream",
     "text": [
      "John [Smith] is a coder\n"
     ]
    }
   ],
   "source": [
    "first = 'John'\n",
    "last = 'Smith'\n",
    "# message = first + '[ + last + ]' is a coder\n",
    "msg = f'{first} [{last}] is a coder'\n",
    "print(msg)"
   ]
  },
  {
   "cell_type": "markdown",
   "id": "7337903c-91f7-4ea9-ad16-5d35687923c1",
   "metadata": {
    "tags": []
   },
   "source": [
    "## String Methods"
   ]
  },
  {
   "cell_type": "code",
   "execution_count": 13,
   "id": "ac912fdc-320d-4cb4-8a24-d043cbc54630",
   "metadata": {},
   "outputs": [
    {
     "name": "stdout",
     "output_type": "stream",
     "text": [
      "20\n",
      "PYTHON FOR BEGINNERS\n",
      "python for beginners\n"
     ]
    },
    {
     "data": {
      "text/plain": [
       "0"
      ]
     },
     "execution_count": 13,
     "metadata": {},
     "output_type": "execute_result"
    }
   ],
   "source": [
    "course = 'Python for Beginners'\n",
    "print(len(course))\n",
    "print(course.upper())\n",
    "print(course.lower())\n",
    "course.find('P')"
   ]
  },
  {
   "cell_type": "code",
   "execution_count": 16,
   "id": "f51e8f85-afb7-41b5-a1f7-cfbe7b19f4c8",
   "metadata": {},
   "outputs": [
    {
     "data": {
      "text/plain": [
       "4"
      ]
     },
     "execution_count": 16,
     "metadata": {},
     "output_type": "execute_result"
    }
   ],
   "source": [
    "course = 'Python for Beginners'\n",
    "course.find('o')"
   ]
  },
  {
   "cell_type": "code",
   "execution_count": 17,
   "id": "c92f33ac-d3ce-4f03-a758-78d02f2836d1",
   "metadata": {},
   "outputs": [
    {
     "name": "stdout",
     "output_type": "stream",
     "text": [
      "Python for Absolute Beginners\n"
     ]
    }
   ],
   "source": [
    "course = 'Python for Beginners'\n",
    "print(course.replace('Beginners','Absolute Beginners'))"
   ]
  },
  {
   "cell_type": "code",
   "execution_count": 19,
   "id": "1b1c8bf6-d2d6-446b-ba33-295da588a08c",
   "metadata": {},
   "outputs": [
    {
     "name": "stdout",
     "output_type": "stream",
     "text": [
      "Jython for Beginners\n"
     ]
    }
   ],
   "source": [
    "course = 'Python for Beginners'\n",
    "print(course.replace('P','J'))"
   ]
  },
  {
   "cell_type": "code",
   "execution_count": 22,
   "id": "d790f653-857b-4844-a5e6-3448e96b94cf",
   "metadata": {},
   "outputs": [
    {
     "data": {
      "text/plain": [
       "True"
      ]
     },
     "execution_count": 22,
     "metadata": {},
     "output_type": "execute_result"
    }
   ],
   "source": [
    "course = 'Python for Beginners'\n",
    "'Python' in course "
   ]
  },
  {
   "cell_type": "code",
   "execution_count": 24,
   "id": "653c86d3-4301-4202-9553-0e4a23ecfee4",
   "metadata": {},
   "outputs": [
    {
     "data": {
      "text/plain": [
       "False"
      ]
     },
     "execution_count": 24,
     "metadata": {},
     "output_type": "execute_result"
    }
   ],
   "source": [
    "course = 'Python for Beginners'\n",
    "'python' in course "
   ]
  },
  {
   "cell_type": "code",
   "execution_count": null,
   "id": "54684cd0-ea76-46df-9185-33a07674dfec",
   "metadata": {},
   "outputs": [],
   "source": [
    "course = 'Python for Beginners'\n",
    "len()\n",
    "course.upper()"
   ]
  },
  {
   "cell_type": "markdown",
   "id": "f06abe20-be1a-4ef7-9ba3-f70e66e6c0af",
   "metadata": {},
   "source": [
    "## Arithmetic Operations"
   ]
  },
  {
   "cell_type": "code",
   "execution_count": 26,
   "id": "2719f162-e9b8-4d2f-83f2-c7aa652ebd0f",
   "metadata": {},
   "outputs": [
    {
     "name": "stdout",
     "output_type": "stream",
     "text": [
      "13\n",
      "7\n",
      "30\n",
      "3.3333333333333335\n",
      "3\n",
      "1\n",
      "1000\n"
     ]
    }
   ],
   "source": [
    "print(10 + 3) # Addition\n",
    "print(10 - 3) # Subtraction\n",
    "print(10 * 3) # Multiplication\n",
    "print(10 / 3) # Division\n",
    "print(10 // 3) # Division (Integer)\n",
    "print(10 % 3) # Return remainder\n",
    "print(10 ** 3) # Power"
   ]
  },
  {
   "cell_type": "code",
   "execution_count": 30,
   "id": "6d287608-3af6-438f-a1d7-697930628477",
   "metadata": {},
   "outputs": [
    {
     "name": "stdout",
     "output_type": "stream",
     "text": [
      "16\n"
     ]
    }
   ],
   "source": [
    "# Augmented assignment operator (+=)\n",
    "\n",
    "x = 10\n",
    "x = x + 3\n",
    "x += 3\n",
    "print(x)"
   ]
  },
  {
   "cell_type": "code",
   "execution_count": 33,
   "id": "98f83dce-9bf3-4809-99b6-35cbcc61233f",
   "metadata": {},
   "outputs": [
    {
     "name": "stdout",
     "output_type": "stream",
     "text": [
      "16\n",
      "22\n"
     ]
    }
   ],
   "source": [
    "x = 10 + 3 * 2\n",
    "y = 10 + 3 * 2 ** 2\n",
    "print(x)\n",
    "print(y)"
   ]
  },
  {
   "cell_type": "markdown",
   "id": "3ab8e426-146b-4822-bcd7-106c2075dac7",
   "metadata": {},
   "source": [
    "## Math functions"
   ]
  },
  {
   "cell_type": "code",
   "execution_count": 34,
   "id": "5c65a249-92aa-4b5f-9deb-087a2430e7f6",
   "metadata": {},
   "outputs": [
    {
     "name": "stdout",
     "output_type": "stream",
     "text": [
      "3\n"
     ]
    }
   ],
   "source": [
    "x = 2.9\n",
    "print(round(x))"
   ]
  },
  {
   "cell_type": "code",
   "execution_count": 37,
   "id": "ac988e93-bdc0-4916-9bb3-bdad96d49aad",
   "metadata": {},
   "outputs": [
    {
     "name": "stdout",
     "output_type": "stream",
     "text": [
      "2.9\n"
     ]
    }
   ],
   "source": [
    "x = 2.9\n",
    "print(abs(-2.9))"
   ]
  },
  {
   "cell_type": "code",
   "execution_count": 9,
   "id": "e264bafe-f46d-4671-be04-aacb670ec99b",
   "metadata": {},
   "outputs": [
    {
     "name": "stdout",
     "output_type": "stream",
     "text": [
      "3\n"
     ]
    }
   ],
   "source": [
    "import math\n",
    "\n",
    "print(math.ceil(2.9))"
   ]
  },
  {
   "cell_type": "code",
   "execution_count": 40,
   "id": "d4760968-d33d-412c-b774-fae00a5c1206",
   "metadata": {},
   "outputs": [
    {
     "name": "stdout",
     "output_type": "stream",
     "text": [
      "2.9\n"
     ]
    }
   ],
   "source": [
    "x = -2.9\n",
    "print(math.fabs(x))"
   ]
  },
  {
   "cell_type": "markdown",
   "id": "536b30ad-85df-4732-b4b2-eb82d314e5a0",
   "metadata": {},
   "source": [
    "## IF Statements"
   ]
  },
  {
   "cell_type": "code",
   "execution_count": 52,
   "id": "015ade61-6fea-4dd8-bd34-a2ad7b298eae",
   "metadata": {},
   "outputs": [
    {
     "name": "stdout",
     "output_type": "stream",
     "text": [
      "It's a cold day\n",
      "Wear warm clothes\n",
      "Enjoy your day\n"
     ]
    }
   ],
   "source": [
    "is_hot = False\n",
    "is_cold = True\n",
    "\n",
    "if is_hot:\n",
    "    print(\"It's a hot day\")\n",
    "    print(\"Drink plenty of water\")\n",
    "elif is_cold:\n",
    "    print(\"It's a cold day\")\n",
    "    print(\"Wear warm clothes\")\n",
    "else:\n",
    "    print(\"It's a lovely day\")\n",
    "    \n",
    "print(\"Enjoy your day\")"
   ]
  },
  {
   "cell_type": "code",
   "execution_count": 53,
   "id": "3c4f6a60-0c03-4586-96cc-1f4916ad1305",
   "metadata": {},
   "outputs": [
    {
     "name": "stdout",
     "output_type": "stream",
     "text": [
      "Down payment: $100000.0\n"
     ]
    }
   ],
   "source": [
    "price = 1000000\n",
    "has_good_credit = True\n",
    "\n",
    "if has_good_credit:\n",
    "    down_payment = 0.1 * price\n",
    "else:\n",
    "    down_payment = 0.2 * price\n",
    "print(f\"Down payment: ${down_payment}\")"
   ]
  },
  {
   "cell_type": "markdown",
   "id": "51b10d4b-dcc9-4b15-bb9f-9ae6aaa7240b",
   "metadata": {
    "tags": []
   },
   "source": [
    "## Logical Operators\n",
    "\n",
    "- AND: both\n",
    "- OR: at least one\n",
    "- NOT"
   ]
  },
  {
   "cell_type": "code",
   "execution_count": 2,
   "id": "76d3404e-29f7-4140-88d1-a46c57142dc8",
   "metadata": {},
   "outputs": [
    {
     "name": "stdout",
     "output_type": "stream",
     "text": [
      "Eligible for loan\n"
     ]
    }
   ],
   "source": [
    "# if an applicant has high income AND good credit then they're Eligible for loan\n",
    "has_high_income = True\n",
    "has_good_credit = True\n",
    "\n",
    "if has_high_income and has_good_credit:\n",
    "    print(\"Eligible for loan\")"
   ]
  },
  {
   "cell_type": "markdown",
   "id": "ddf3f0d7-30b5-4484-a601-3eb331d25952",
   "metadata": {},
   "source": [
    "## Comparison Operator\n",
    "\n",
    "compare variable with a value\n",
    "\n",
    "- '>': Greater than\n",
    "- <: Less than\n",
    "- ==: Is equal to\n",
    "- !=: Not equal"
   ]
  },
  {
   "cell_type": "code",
   "execution_count": 3,
   "id": "215437f2-6c15-4e94-85c3-68c269c438a7",
   "metadata": {},
   "outputs": [
    {
     "name": "stdout",
     "output_type": "stream",
     "text": [
      "It's not a hot day\n"
     ]
    }
   ],
   "source": [
    "temperature = 30\n",
    "\n",
    "if temperature > 30:\n",
    "    print(\"It's a hot day\")\n",
    "else:\n",
    "    print(\"It's not a hot day\")"
   ]
  },
  {
   "cell_type": "code",
   "execution_count": 7,
   "id": "64dc0185-46ac-43a0-a5ea-5898c0324f63",
   "metadata": {},
   "outputs": [
    {
     "name": "stdout",
     "output_type": "stream",
     "text": [
      "10\n",
      "Name looks good!\n"
     ]
    }
   ],
   "source": [
    "name = 'John Smith'\n",
    "\n",
    "print(len(name))\n",
    "\n",
    "if len(name) < 3:\n",
    "    print(\"Name must be at least 3 characters.\")\n",
    "elif len(name) > 50:\n",
    "    print(\"Name must be a maximum of 50 characters.\")\n",
    "else:\n",
    "    print(\"Name looks good!\")"
   ]
  },
  {
   "cell_type": "markdown",
   "id": "4897d2b7-2621-404c-a35e-c56fa92a1dcc",
   "metadata": {
    "tags": []
   },
   "source": [
    "## Weight Converter Program"
   ]
  },
  {
   "cell_type": "code",
   "execution_count": 12,
   "id": "34675899-8925-4ff4-9902-5bc66ceae403",
   "metadata": {},
   "outputs": [
    {
     "name": "stdout",
     "output_type": "stream",
     "text": [
      "Weight:  80\n",
      "(L)bs or (K)g k\n"
     ]
    },
    {
     "name": "stdout",
     "output_type": "stream",
     "text": [
      "You are 177.0 pounds\n"
     ]
    }
   ],
   "source": [
    "weight = int(input('Weight: '))\n",
    "unit = input('(L)bs or (K)g')\n",
    "if unit.upper() == 'L':\n",
    "    converted = weight * 0.45\n",
    "    print(f\"You are {converted} kilos\")\n",
    "else:\n",
    "    converted = weight / 0.45\n",
    "    print(f\"You are {converted} pounds\") "
   ]
  },
  {
   "cell_type": "markdown",
   "id": "24b44d88-e59a-4746-a036-df53675c2120",
   "metadata": {},
   "source": [
    "## While Loop"
   ]
  },
  {
   "cell_type": "code",
   "execution_count": 15,
   "id": "6860ac59-ffe5-4624-b6ed-67b1a36d8fbf",
   "metadata": {},
   "outputs": [
    {
     "name": "stdout",
     "output_type": "stream",
     "text": [
      "1\n",
      "2\n",
      "3\n",
      "4\n",
      "5\n",
      "Done\n"
     ]
    }
   ],
   "source": [
    "i = 1\n",
    "while i <=5:\n",
    "    print(i)\n",
    "    i = i + 1\n",
    "print(\"Done\")"
   ]
  },
  {
   "cell_type": "code",
   "execution_count": 1,
   "id": "38b1d38f-68a4-4aa9-922a-23e0bc06d8e2",
   "metadata": {},
   "outputs": [
    {
     "name": "stdout",
     "output_type": "stream",
     "text": [
      "*\n",
      "**\n",
      "***\n",
      "****\n",
      "*****\n",
      "Done\n"
     ]
    }
   ],
   "source": [
    "i = 1\n",
    "while i <=5:\n",
    "    print('*' * i)\n",
    "    i = i + 1\n",
    "print(\"Done\")"
   ]
  },
  {
   "cell_type": "markdown",
   "id": "e6be22b8-4c94-4c50-9cce-250d68f6da77",
   "metadata": {},
   "source": [
    "## Building a Guessing Game"
   ]
  },
  {
   "cell_type": "code",
   "execution_count": 21,
   "id": "328708f8-b22d-4a9f-bf13-6df25ea93fb5",
   "metadata": {},
   "outputs": [
    {
     "name": "stdout",
     "output_type": "stream",
     "text": [
      "Guess:  9\n"
     ]
    },
    {
     "name": "stdout",
     "output_type": "stream",
     "text": [
      "You won!\n"
     ]
    }
   ],
   "source": [
    "secret_number = 9\n",
    "guess_count = 0\n",
    "guess_limit = 3\n",
    "while guess_count < guess_limit:\n",
    "    guess = int(input('Guess: '))\n",
    "    guess_count += 1\n",
    "    if guess == secret_number:\n",
    "        print('You won!')\n",
    "        break\n",
    "else:\n",
    "    print('Sorry, you failed!')"
   ]
  },
  {
   "cell_type": "markdown",
   "id": "2dbe3bbf-82d7-4500-8d6c-b888fce22838",
   "metadata": {},
   "source": [
    "## Building the Car Game"
   ]
  },
  {
   "cell_type": "code",
   "execution_count": 28,
   "id": "463bf20a-bd26-4b69-9789-3e3c6edfa2a9",
   "metadata": {},
   "outputs": [
    {
     "name": "stdout",
     "output_type": "stream",
     "text": [
      ">  start\n"
     ]
    },
    {
     "name": "stdout",
     "output_type": "stream",
     "text": [
      "Car started... Ready to go!\n"
     ]
    },
    {
     "name": "stdout",
     "output_type": "stream",
     "text": [
      ">  start\n"
     ]
    },
    {
     "name": "stdout",
     "output_type": "stream",
     "text": [
      "Car is already started!\n"
     ]
    },
    {
     "name": "stdout",
     "output_type": "stream",
     "text": [
      ">  start\n"
     ]
    },
    {
     "name": "stdout",
     "output_type": "stream",
     "text": [
      "Car is already started!\n"
     ]
    },
    {
     "name": "stdout",
     "output_type": "stream",
     "text": [
      ">  stop\n"
     ]
    },
    {
     "name": "stdout",
     "output_type": "stream",
     "text": [
      "Car stopped.\n"
     ]
    },
    {
     "name": "stdout",
     "output_type": "stream",
     "text": [
      ">  stop\n"
     ]
    },
    {
     "name": "stdout",
     "output_type": "stream",
     "text": [
      "Car is already stopped!\n"
     ]
    },
    {
     "name": "stdout",
     "output_type": "stream",
     "text": [
      ">  quit\n"
     ]
    }
   ],
   "source": [
    "command = \"\"\n",
    "started = False\n",
    "stopped = True\n",
    "help_msg = '''\n",
    "> start - to start the car\n",
    "> stop - to stop the car\n",
    "> quit - to exit\n",
    "'''\n",
    "while True:\n",
    "    command = input(\"> \").lower()\n",
    "    if command == \"start\":\n",
    "        if started:\n",
    "            print(\"Car is already started!\")\n",
    "        else:\n",
    "            started = True\n",
    "            stopped = False\n",
    "            print(\"Car started... Ready to go!\")\n",
    "    elif command == \"stop\":\n",
    "        if not started:\n",
    "            print(\"Car is already stopped!\")\n",
    "        else:\n",
    "            started = False\n",
    "            print(\"Car stopped.\")\n",
    "    elif command == \"help\":\n",
    "        print(help_msg)\n",
    "    elif command == \"quit\":\n",
    "        break\n",
    "    else:\n",
    "        print(\"I don't understand that...\")"
   ]
  },
  {
   "cell_type": "markdown",
   "id": "3d739ddf-9889-4a38-8c65-836ff61f8b77",
   "metadata": {},
   "source": [
    "## For Loops\n",
    "\n",
    "Used to iterate over items of a collection\n",
    "\n",
    "Such as a:\n",
    "- string - because string is a sequence of character"
   ]
  },
  {
   "cell_type": "code",
   "execution_count": 30,
   "id": "1ea999b0-8d19-45d8-bb36-b5f286c0204b",
   "metadata": {},
   "outputs": [
    {
     "name": "stdout",
     "output_type": "stream",
     "text": [
      "P\n",
      "y\n",
      "t\n",
      "h\n",
      "o\n",
      "n\n"
     ]
    }
   ],
   "source": [
    "for item in 'Python':\n",
    "    print(item)"
   ]
  },
  {
   "cell_type": "code",
   "execution_count": 31,
   "id": "928b1d7f-53b6-4d0e-a2e2-a0563e984f4e",
   "metadata": {},
   "outputs": [
    {
     "name": "stdout",
     "output_type": "stream",
     "text": [
      "Mosh\n",
      "John\n",
      "Sarah\n"
     ]
    }
   ],
   "source": [
    "for item in ['Mosh','John','Sarah']:\n",
    "    print(item)"
   ]
  },
  {
   "cell_type": "code",
   "execution_count": 32,
   "id": "265b39e4-73ba-49bd-a36b-1b23a47a617d",
   "metadata": {},
   "outputs": [
    {
     "name": "stdout",
     "output_type": "stream",
     "text": [
      "1\n",
      "2\n",
      "3\n",
      "4\n"
     ]
    }
   ],
   "source": [
    "for item in [1,2,3,4]:\n",
    "    print(item)"
   ]
  },
  {
   "cell_type": "code",
   "execution_count": 37,
   "id": "f7ead578-6e60-497a-b74f-a47c2154f2f3",
   "metadata": {},
   "outputs": [
    {
     "name": "stdout",
     "output_type": "stream",
     "text": [
      "0\n",
      "1\n",
      "2\n",
      "3\n",
      "4\n"
     ]
    }
   ],
   "source": [
    "for item in range(5):\n",
    "    print(item)"
   ]
  },
  {
   "cell_type": "code",
   "execution_count": 40,
   "id": "fe525842-8723-4789-97d7-0d5d757e4929",
   "metadata": {},
   "outputs": [
    {
     "name": "stdout",
     "output_type": "stream",
     "text": [
      "5\n",
      "7\n",
      "9\n"
     ]
    }
   ],
   "source": [
    "for item in range(5, 10, 2):\n",
    "    print(item)"
   ]
  },
  {
   "cell_type": "code",
   "execution_count": 44,
   "id": "24d59e82-e2be-45e3-a412-e4c9f4d16689",
   "metadata": {},
   "outputs": [
    {
     "name": "stdout",
     "output_type": "stream",
     "text": [
      "Total: 60\n"
     ]
    }
   ],
   "source": [
    "prices = [10, 20, 30]\n",
    "\n",
    "total = 0\n",
    "for price in prices:\n",
    "    total += price\n",
    "print(f\"Total: {total}\")"
   ]
  },
  {
   "cell_type": "markdown",
   "id": "a8717468-c937-40a9-9591-38d221b286e9",
   "metadata": {
    "tags": []
   },
   "source": [
    "## Nested Loops\n",
    "\n",
    "```\n",
    "(x, y)\n",
    "(0, 0)\n",
    "(0, 1)\n",
    "(0, 2)\n",
    "(1, 0)\n",
    "(1, 1)\n",
    "(1, 2)\n",
    "```"
   ]
  },
  {
   "cell_type": "code",
   "execution_count": 46,
   "id": "df9db59f-bbb9-48cb-828e-021aafd38ee1",
   "metadata": {
    "tags": []
   },
   "outputs": [
    {
     "name": "stdout",
     "output_type": "stream",
     "text": [
      "(0,0)\n",
      "(0,1)\n",
      "(0,2)\n",
      "(1,0)\n",
      "(1,1)\n",
      "(1,2)\n",
      "(2,0)\n",
      "(2,1)\n",
      "(2,2)\n",
      "(3,0)\n",
      "(3,1)\n",
      "(3,2)\n"
     ]
    }
   ],
   "source": [
    "for x in range(4):\n",
    "    for  y in range(3):\n",
    "        print(f'({x},{y})')"
   ]
  },
  {
   "cell_type": "code",
   "execution_count": 52,
   "id": "7807709d-e744-4746-94a8-9ba06ba13dc0",
   "metadata": {},
   "outputs": [
    {
     "name": "stdout",
     "output_type": "stream",
     "text": [
      "xxxxx\n",
      "xx\n",
      "xxxxx\n",
      "xx\n",
      "xx\n"
     ]
    }
   ],
   "source": [
    "numbers = [5, 2, 5, 2, 2]\n",
    "for x_count in numbers:\n",
    "    print('x' * x_count)"
   ]
  },
  {
   "cell_type": "code",
   "execution_count": 53,
   "id": "aa6b8b0c-ce35-4ac8-a4e7-f9743ddc0989",
   "metadata": {},
   "outputs": [
    {
     "name": "stdout",
     "output_type": "stream",
     "text": [
      "xxxxx\n",
      "xx\n",
      "xxxxx\n",
      "xx\n",
      "xx\n"
     ]
    }
   ],
   "source": [
    "numbers = [5, 2, 5, 2, 2]\n",
    "for x_count in numbers:\n",
    "    output = ''\n",
    "    for count in range(x_count):\n",
    "        output += 'x'\n",
    "    print(output)"
   ]
  },
  {
   "cell_type": "markdown",
   "id": "927a639c-8450-4b7f-b161-49724b4d27d9",
   "metadata": {},
   "source": [
    "## Lists"
   ]
  },
  {
   "cell_type": "code",
   "execution_count": 64,
   "id": "9fa1433d-8002-4954-9a55-1fca5498b1ed",
   "metadata": {},
   "outputs": [
    {
     "name": "stdout",
     "output_type": "stream",
     "text": [
      "Mosh\n",
      "['Mosh', 'Sarah']\n",
      "['Mosh', 'Sarah', 'Mary']\n",
      "['John', 'Bob', 'Mosh', 'Sarah', 'Mary']\n"
     ]
    }
   ],
   "source": [
    "names = ['John', 'Bob', 'Mosh', 'Sarah', 'Mary']\n",
    "print(names[2])\n",
    "print(names[2:4])\n",
    "print(names[2:])\n",
    "print(names)"
   ]
  },
  {
   "cell_type": "code",
   "execution_count": 70,
   "id": "04e9b7fd-3b24-4dcf-bf9a-83ca3d494d62",
   "metadata": {},
   "outputs": [
    {
     "name": "stdout",
     "output_type": "stream",
     "text": [
      "10\n"
     ]
    }
   ],
   "source": [
    "numbers = [3, 6, 2, 8, 4, 10]\n",
    "max = numbers[0]\n",
    "for number in numbers:\n",
    "    if number > max:\n",
    "        max = number\n",
    "print(max)"
   ]
  },
  {
   "cell_type": "markdown",
   "id": "19be1e70-f584-4163-bf36-5ca081d8302c",
   "metadata": {},
   "source": [
    "### 2D Lists\n",
    "\n",
    "3x3 matrix\n",
    "```\n",
    "3 3 3\n",
    "4 5 6\n",
    "7 8 9   \n",
    "```"
   ]
  },
  {
   "cell_type": "code",
   "execution_count": 5,
   "id": "d98f35a0-dc92-45ab-bc5c-f4ae97b7aa67",
   "metadata": {},
   "outputs": [
    {
     "name": "stdout",
     "output_type": "stream",
     "text": [
      "1\n",
      "2\n",
      "3\n",
      "4\n",
      "5\n",
      "6\n",
      "7\n",
      "8\n",
      "9\n"
     ]
    }
   ],
   "source": [
    "matrix = [\n",
    "    [1, 2, 3],\n",
    "    [4, 5, 6],\n",
    "    [7, 8, 9]\n",
    "]\n",
    "for row in matrix:\n",
    "    for item in row:\n",
    "        print(item)\n"
   ]
  },
  {
   "cell_type": "markdown",
   "id": "c60fd7a4-d346-4e8c-a5e1-68d3baa4aceb",
   "metadata": {},
   "source": [
    "### List Methods/Functions"
   ]
  },
  {
   "cell_type": "code",
   "execution_count": 6,
   "id": "d3601c77-9c2d-4b55-a159-f1721eef5e87",
   "metadata": {},
   "outputs": [
    {
     "name": "stdout",
     "output_type": "stream",
     "text": [
      "[5, 2, 1, 7, 4, 20]\n"
     ]
    }
   ],
   "source": [
    "numbers = [5, 2, 1, 7, 4]\n",
    "numbers.append(20) # Add new items to this list\n",
    "print(numbers)"
   ]
  },
  {
   "cell_type": "code",
   "execution_count": 7,
   "id": "3eb07cf2-8e12-4f56-bae3-3602fc8fa7e1",
   "metadata": {},
   "outputs": [
    {
     "name": "stdout",
     "output_type": "stream",
     "text": [
      "[5, 2, 1, 7, 4, 20]\n"
     ]
    }
   ],
   "source": [
    "# Append - Add new items to this list\n",
    "numbers = [5, 2, 1, 7, 4]\n",
    "numbers.append(20)\n",
    "print(numbers)"
   ]
  },
  {
   "cell_type": "code",
   "execution_count": 8,
   "id": "adc7993c-bef1-4ff8-9431-160bc9531b6a",
   "metadata": {},
   "outputs": [
    {
     "name": "stdout",
     "output_type": "stream",
     "text": [
      "[10, 5, 2, 1, 7, 4]\n"
     ]
    }
   ],
   "source": [
    "# Insert - Add new items in this list\n",
    "numbers = [5, 2, 1, 7, 4]\n",
    "numbers.insert(0, 10)\n",
    "print(numbers)"
   ]
  },
  {
   "cell_type": "code",
   "execution_count": 9,
   "id": "942e91c3-0b52-4802-a28d-aefe996f6f90",
   "metadata": {},
   "outputs": [
    {
     "name": "stdout",
     "output_type": "stream",
     "text": [
      "[2, 1, 7, 4]\n"
     ]
    }
   ],
   "source": [
    "# Remove - remove items in this list\n",
    "numbers = [5, 2, 1, 7, 4]\n",
    "numbers.remove(5)\n",
    "print(numbers)"
   ]
  },
  {
   "cell_type": "code",
   "execution_count": 10,
   "id": "7d749a18-ca0e-43b4-b46b-bf0da9fc7bc8",
   "metadata": {},
   "outputs": [
    {
     "name": "stdout",
     "output_type": "stream",
     "text": [
      "[]\n"
     ]
    }
   ],
   "source": [
    "# Clear - remove all items in the list\n",
    "numbers = [5, 2, 1, 7, 4]\n",
    "numbers.clear()\n",
    "print(numbers)"
   ]
  },
  {
   "cell_type": "code",
   "execution_count": null,
   "id": "18dc65b0",
   "metadata": {},
   "outputs": [],
   "source": []
  },
  {
   "cell_type": "code",
   "execution_count": null,
   "id": "c1807363-0efc-4304-948b-115e95c94e57",
   "metadata": {},
   "outputs": [],
   "source": []
  }
 ],
 "metadata": {
  "kernelspec": {
   "display_name": "Python 3 (ipykernel)",
   "language": "python",
   "name": "python3"
  },
  "language_info": {
   "codemirror_mode": {
    "name": "ipython",
    "version": 3
   },
   "file_extension": ".py",
   "mimetype": "text/x-python",
   "name": "python",
   "nbconvert_exporter": "python",
   "pygments_lexer": "ipython3",
   "version": "3.8.13"
  }
 },
 "nbformat": 4,
 "nbformat_minor": 5
}
